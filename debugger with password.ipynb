{
 "cells": [
  {
   "cell_type": "markdown",
   "metadata": {},
   "source": [
    "## Lesson 1 Exercise 1: Creating a Table with PostgreSQL"
   ]
  },
  {
   "cell_type": "code",
   "execution_count": 1,
   "metadata": {
    "execution": {
     "iopub.execute_input": "2023-07-28T19:18:45.507207Z",
     "iopub.status.busy": "2023-07-28T19:18:45.506826Z",
     "iopub.status.idle": "2023-07-28T19:18:57.270470Z",
     "shell.execute_reply": "2023-07-28T19:18:57.269327Z",
     "shell.execute_reply.started": "2023-07-28T19:18:45.507175Z"
    }
   },
   "outputs": [
    {
     "name": "stdout",
     "output_type": "stream",
     "text": [
      "Requirement already satisfied: psycopg2 in c:\\users\\soleil botha\\appdata\\local\\programs\\python\\python38\\lib\\site-packages (2.9.6)\n"
     ]
    }
   ],
   "source": [
    "!pip install psycopg2"
   ]
  },
  {
   "cell_type": "markdown",
   "metadata": {},
   "source": [
    "## Import the library"
   ]
  },
  {
   "cell_type": "code",
   "execution_count": 2,
   "metadata": {
    "execution": {
     "iopub.execute_input": "2023-07-28T19:20:41.130753Z",
     "iopub.status.busy": "2023-07-28T19:20:41.130301Z",
     "iopub.status.idle": "2023-07-28T19:20:41.149917Z",
     "shell.execute_reply": "2023-07-28T19:20:41.148837Z",
     "shell.execute_reply.started": "2023-07-28T19:20:41.130711Z"
    }
   },
   "outputs": [],
   "source": [
    "import psycopg2"
   ]
  },
  {
   "cell_type": "markdown",
   "metadata": {},
   "source": [
    "## Create a connection to the database"
   ]
  },
  {
   "cell_type": "code",
   "execution_count": 3,
   "metadata": {
    "execution": {
     "iopub.execute_input": "2023-07-28T19:26:38.209436Z",
     "iopub.status.busy": "2023-07-28T19:26:38.208745Z",
     "iopub.status.idle": "2023-07-28T19:26:38.218598Z",
     "shell.execute_reply": "2023-07-28T19:26:38.217485Z",
     "shell.execute_reply.started": "2023-07-28T19:26:38.209398Z"
    }
   },
   "outputs": [
    {
     "name": "stdout",
     "output_type": "stream",
     "text": [
      "Connection to the PostgreSQL database successful.\n"
     ]
    }
   ],
   "source": [
    "try:\n",
    "    conn = psycopg2.connect(\"host=127.0.0.1 dbname=postgres user=postgres password=root\")\n",
    "    print(\"Connection to the PostgreSQL database successful.\")\n",
    "    # You can perform further operations with the connection here if needed.\n",
    "    # For example, executing SQL queries or accessing data from the database.\n",
    "    # Don't forget to close the connection when you are done.\n",
    "    # conn.close()\n",
    "except psycopg2.Error as e:\n",
    "    print(\"Error: Could not make a connection to the Postgres database\")\n",
    "    print(e)"
   ]
  },
  {
   "cell_type": "markdown",
   "metadata": {},
   "source": [
    "## Use the connection to get a cursor that can be used to execute queries."
   ]
  },
  {
   "cell_type": "code",
   "execution_count": 4,
   "metadata": {
    "execution": {
     "iopub.status.busy": "2023-07-28T19:18:43.260804Z",
     "iopub.status.idle": "2023-07-28T19:18:43.261188Z",
     "shell.execute_reply": "2023-07-28T19:18:43.261020Z",
     "shell.execute_reply.started": "2023-07-28T19:18:43.261002Z"
    }
   },
   "outputs": [],
   "source": [
    "try: \n",
    "    cur = conn.cursor()\n",
    "except psycopg2.Error as e: \n",
    "    print(\"Error: Could not get curser to the Database\")\n",
    "    print(e)"
   ]
  },
  {
   "cell_type": "markdown",
   "metadata": {},
   "source": [
    "## Set automatic commit to be true so that each action is committed without having to call conn.commit() after each command."
   ]
  },
  {
   "cell_type": "code",
   "execution_count": 5,
   "metadata": {
    "execution": {
     "iopub.status.busy": "2023-07-28T19:18:43.262549Z",
     "iopub.status.idle": "2023-07-28T19:18:43.262922Z",
     "shell.execute_reply": "2023-07-28T19:18:43.262751Z",
     "shell.execute_reply.started": "2023-07-28T19:18:43.262733Z"
    }
   },
   "outputs": [],
   "source": [
    "conn.set_session(autocommit=True)"
   ]
  },
  {
   "cell_type": "markdown",
   "metadata": {},
   "source": [
    "## Create a database to do the work in"
   ]
  },
  {
   "cell_type": "code",
   "execution_count": 6,
   "metadata": {
    "execution": {
     "iopub.status.busy": "2023-07-28T19:18:43.264775Z",
     "iopub.status.idle": "2023-07-28T19:18:43.265517Z",
     "shell.execute_reply": "2023-07-28T19:18:43.265342Z",
     "shell.execute_reply.started": "2023-07-28T19:18:43.265319Z"
    }
   },
   "outputs": [],
   "source": [
    "try: \n",
    "    cur.execute(\"create database myfirstdb\")\n",
    "except psycopg2.Error as e:\n",
    "    print(e)"
   ]
  },
  {
   "cell_type": "markdown",
   "metadata": {},
   "source": [
    "## Add the database name in the connect statement. Let's close our connection to the default database, reconnect to the Udacity database, and get a new cursor."
   ]
  },
  {
   "cell_type": "code",
   "execution_count": 8,
   "metadata": {
    "execution": {
     "iopub.status.busy": "2023-07-28T19:18:43.266716Z",
     "iopub.status.idle": "2023-07-28T19:18:43.267076Z",
     "shell.execute_reply": "2023-07-28T19:18:43.266925Z",
     "shell.execute_reply.started": "2023-07-28T19:18:43.266907Z"
    }
   },
   "outputs": [],
   "source": [
    "try: \n",
    "    conn.close()\n",
    "except psycopg2.Error as e:\n",
    "    print(e)\n",
    "    \n",
    "try: \n",
    "    conn = psycopg2.connect(\"host=127.0.0.1 dbname=myfirstdb user=postgres password=root\")\n",
    "except psycopg2.Error as e: \n",
    "    print(\"Error: Could not make connection to the Postgres database\")\n",
    "    print(e)\n",
    "    \n",
    "try: \n",
    "    cur = conn.cursor()\n",
    "except psycopg2.Error as e: \n",
    "    print(\"Error: Could not get curser to the Database\")\n",
    "    print(e)\n",
    "\n",
    "conn.set_session(autocommit=True)"
   ]
  },
  {
   "cell_type": "markdown",
   "metadata": {},
   "source": [
    "## Create Table for students which includes below columns\n",
    "\n",
    "student_id <br>\n",
    "name <br>\n",
    "age <br>\n",
    "gender <br>\n",
    "subject <br>\n",
    "marks"
   ]
  },
  {
   "cell_type": "code",
   "execution_count": 9,
   "metadata": {
    "execution": {
     "iopub.status.busy": "2023-07-28T19:18:43.268425Z",
     "iopub.status.idle": "2023-07-28T19:18:43.268784Z",
     "shell.execute_reply": "2023-07-28T19:18:43.268622Z",
     "shell.execute_reply.started": "2023-07-28T19:18:43.268605Z"
    }
   },
   "outputs": [],
   "source": [
    "try: \n",
    "    cur.execute(\"CREATE TABLE IF NOT EXISTS students (student_id int, name varchar,\\\n",
    "    age int, gender varchar, subject varchar, marks int);\")\n",
    "except psycopg2.Error as e: \n",
    "    print(\"Error: Issue creating table\")\n",
    "    print (e)"
   ]
  },
  {
   "cell_type": "markdown",
   "metadata": {},
   "source": [
    "### Insert the following two rows in the table\n",
    "First Row:  1, \"Raj\", 23, \"Male\", \"Python\", 85\n",
    "\n",
    "Second Row: 2, \"Priya\", 22, \"Female\", \"Python\", 86"
   ]
  },
  {
   "cell_type": "code",
   "execution_count": 10,
   "metadata": {
    "execution": {
     "iopub.status.busy": "2023-07-28T19:18:43.270133Z",
     "iopub.status.idle": "2023-07-28T19:18:43.270500Z",
     "shell.execute_reply": "2023-07-28T19:18:43.270344Z",
     "shell.execute_reply.started": "2023-07-28T19:18:43.270327Z"
    }
   },
   "outputs": [],
   "source": [
    "try: \n",
    "    cur.execute(\"INSERT INTO students (student_id, name, age, gender, subject, marks) \\\n",
    "                 VALUES (%s, %s, %s, %s, %s, %s)\", \\\n",
    "                 (1, \"Raj\", 23, \"Male\", \"Python\", 85))\n",
    "except psycopg2.Error as e: \n",
    "    print(\"Error: Inserting Rows\")\n",
    "    print (e)\n",
    "    \n",
    "try: \n",
    "    cur.execute(\"INSERT INTO students (student_id, name, age, gender, subject, marks) \\\n",
    "                  VALUES (%s, %s, %s, %s, %s, %s)\",\n",
    "                  ( 2, \"Priya\", 22, \"Female\", \"Python\", 86))\n",
    "except psycopg2.Error as e: \n",
    "    print(\"Error: Inserting Rows\")\n",
    "    print (e)"
   ]
  },
  {
   "cell_type": "markdown",
   "metadata": {},
   "source": [
    "## Validate your data was inserted into the table."
   ]
  },
  {
   "cell_type": "code",
   "execution_count": 11,
   "metadata": {
    "execution": {
     "iopub.status.busy": "2023-07-28T19:18:43.271550Z",
     "iopub.status.idle": "2023-07-28T19:18:43.271908Z",
     "shell.execute_reply": "2023-07-28T19:18:43.271754Z",
     "shell.execute_reply.started": "2023-07-28T19:18:43.271730Z"
    }
   },
   "outputs": [
    {
     "name": "stdout",
     "output_type": "stream",
     "text": [
      "(1, 'Raj', 23, 'Male', 'Python', 85)\n",
      "(2, 'Priya', 22, 'Female', 'Python', 86)\n"
     ]
    }
   ],
   "source": [
    "try: \n",
    "    cur.execute(\"SELECT * FROM students;\")\n",
    "except psycopg2.Error as e: \n",
    "    print(\"Error: select *\")\n",
    "    print (e)\n",
    "\n",
    "row = cur.fetchone()\n",
    "while row:\n",
    "    print(row)\n",
    "    row = cur.fetchone()"
   ]
  },
  {
   "cell_type": "markdown",
   "metadata": {},
   "source": [
    "##  And finally close your cursor and connection."
   ]
  },
  {
   "cell_type": "code",
   "execution_count": 12,
   "metadata": {
    "execution": {
     "iopub.status.busy": "2023-07-28T19:18:43.272828Z",
     "iopub.status.idle": "2023-07-28T19:18:43.273170Z",
     "shell.execute_reply": "2023-07-28T19:18:43.273018Z",
     "shell.execute_reply.started": "2023-07-28T19:18:43.273001Z"
    }
   },
   "outputs": [],
   "source": [
    "cur.close()\n",
    "conn.close()"
   ]
  },
  {
   "cell_type": "raw",
   "metadata": {},
   "source": []
  }
 ],
 "metadata": {
  "kernelspec": {
   "display_name": "Python 3 (ipykernel)",
   "language": "python",
   "name": "python3"
  },
  "language_info": {
   "codemirror_mode": {
    "name": "ipython",
    "version": 3
   },
   "file_extension": ".py",
   "mimetype": "text/x-python",
   "name": "python",
   "nbconvert_exporter": "python",
   "pygments_lexer": "ipython3",
   "version": "3.8.5"
  }
 },
 "nbformat": 4,
 "nbformat_minor": 4
}
